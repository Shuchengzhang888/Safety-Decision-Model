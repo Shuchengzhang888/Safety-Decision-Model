{
 "cells": [
  {
   "cell_type": "code",
   "execution_count": 1,
   "metadata": {},
   "outputs": [],
   "source": [
    "import matplotlib.pyplot as plt\n",
    "import pandas as pd\n",
    "import numpy as np"
   ]
  },
  {
   "cell_type": "code",
   "execution_count": 2,
   "metadata": {},
   "outputs": [],
   "source": [
    "input_base = pd.read_csv('regular.csv')"
   ]
  },
  {
   "cell_type": "code",
   "execution_count": 5,
   "metadata": {},
   "outputs": [
    {
     "data": {
      "text/html": [
       "<div>\n",
       "<style scoped>\n",
       "    .dataframe tbody tr th:only-of-type {\n",
       "        vertical-align: middle;\n",
       "    }\n",
       "\n",
       "    .dataframe tbody tr th {\n",
       "        vertical-align: top;\n",
       "    }\n",
       "\n",
       "    .dataframe thead th {\n",
       "        text-align: right;\n",
       "    }\n",
       "</style>\n",
       "<table border=\"1\" class=\"dataframe\">\n",
       "  <thead>\n",
       "    <tr style=\"text-align: right;\">\n",
       "      <th></th>\n",
       "      <th>Unnamed: 0</th>\n",
       "      <th>dis</th>\n",
       "      <th>velo</th>\n",
       "      <th>c</th>\n",
       "    </tr>\n",
       "  </thead>\n",
       "  <tbody>\n",
       "    <tr>\n",
       "      <th>0</th>\n",
       "      <td>0</td>\n",
       "      <td>999.252986</td>\n",
       "      <td>21.820021</td>\n",
       "      <td>10</td>\n",
       "    </tr>\n",
       "    <tr>\n",
       "      <th>1</th>\n",
       "      <td>1</td>\n",
       "      <td>994.070123</td>\n",
       "      <td>23.842095</td>\n",
       "      <td>10</td>\n",
       "    </tr>\n",
       "    <tr>\n",
       "      <th>2</th>\n",
       "      <td>2</td>\n",
       "      <td>998.662633</td>\n",
       "      <td>22.565187</td>\n",
       "      <td>10</td>\n",
       "    </tr>\n",
       "    <tr>\n",
       "      <th>3</th>\n",
       "      <td>3</td>\n",
       "      <td>992.018926</td>\n",
       "      <td>22.247541</td>\n",
       "      <td>10</td>\n",
       "    </tr>\n",
       "    <tr>\n",
       "      <th>4</th>\n",
       "      <td>4</td>\n",
       "      <td>995.280885</td>\n",
       "      <td>21.957088</td>\n",
       "      <td>10</td>\n",
       "    </tr>\n",
       "    <tr>\n",
       "      <th>...</th>\n",
       "      <td>...</td>\n",
       "      <td>...</td>\n",
       "      <td>...</td>\n",
       "      <td>...</td>\n",
       "    </tr>\n",
       "    <tr>\n",
       "      <th>495</th>\n",
       "      <td>495</td>\n",
       "      <td>994.094625</td>\n",
       "      <td>22.230150</td>\n",
       "      <td>10</td>\n",
       "    </tr>\n",
       "    <tr>\n",
       "      <th>496</th>\n",
       "      <td>496</td>\n",
       "      <td>997.680094</td>\n",
       "      <td>22.909685</td>\n",
       "      <td>10</td>\n",
       "    </tr>\n",
       "    <tr>\n",
       "      <th>497</th>\n",
       "      <td>497</td>\n",
       "      <td>996.111858</td>\n",
       "      <td>21.365506</td>\n",
       "      <td>10</td>\n",
       "    </tr>\n",
       "    <tr>\n",
       "      <th>498</th>\n",
       "      <td>498</td>\n",
       "      <td>988.977187</td>\n",
       "      <td>22.893622</td>\n",
       "      <td>10</td>\n",
       "    </tr>\n",
       "    <tr>\n",
       "      <th>499</th>\n",
       "      <td>499</td>\n",
       "      <td>996.068745</td>\n",
       "      <td>22.396797</td>\n",
       "      <td>10</td>\n",
       "    </tr>\n",
       "  </tbody>\n",
       "</table>\n",
       "<p>500 rows × 4 columns</p>\n",
       "</div>"
      ],
      "text/plain": [
       "     Unnamed: 0         dis       velo   c\n",
       "0             0  999.252986  21.820021  10\n",
       "1             1  994.070123  23.842095  10\n",
       "2             2  998.662633  22.565187  10\n",
       "3             3  992.018926  22.247541  10\n",
       "4             4  995.280885  21.957088  10\n",
       "..          ...         ...        ...  ..\n",
       "495         495  994.094625  22.230150  10\n",
       "496         496  997.680094  22.909685  10\n",
       "497         497  996.111858  21.365506  10\n",
       "498         498  988.977187  22.893622  10\n",
       "499         499  996.068745  22.396797  10\n",
       "\n",
       "[500 rows x 4 columns]"
      ]
     },
     "execution_count": 5,
     "metadata": {},
     "output_type": "execute_result"
    }
   ],
   "source": [
    "input_base"
   ]
  },
  {
   "cell_type": "code",
   "execution_count": 6,
   "metadata": {},
   "outputs": [
    {
     "data": {
      "text/plain": [
       "(986.6425163741147, 22.41341854959097, 0.02)"
      ]
     },
     "execution_count": 6,
     "metadata": {},
     "output_type": "execute_result"
    }
   ],
   "source": [
    "input_base_d = input_base['dis'].to_numpy().mean()\n",
    "input_base_v = input_base['velo'].to_numpy().mean()\n",
    "input_base_cr = input_base['c'].to_numpy().mean()/500\n",
    "input_base_d, input_base_v, input_base_cr"
   ]
  },
  {
   "cell_type": "code",
   "execution_count": 7,
   "metadata": {},
   "outputs": [],
   "source": [
    "input_d = []\n",
    "input_v = []\n",
    "input_r = []\n",
    "input_cr = []\n",
    "\n",
    "for i in [1e3,5e3,1e4,2e4,3e4,4e4,5e4,6e4,7e4,8e4,9e4,1e5]:\n",
    "    input= pd.read_csv('20input'+str(i)+'.csv')\n",
    "    input_d.append(input['dis'].to_numpy().mean())\n",
    "    input_v.append(input['velo'].to_numpy().mean())\n",
    "    input_r.append(input['reward'].to_numpy().mean())\n",
    "    input_cr.append(input['c'].to_numpy().mean()/500)\n",
    "input= pd.read_csv('20input1.csv')\n",
    "input_d.append(input['dis'].to_numpy().mean())\n",
    "input_v.append(input['velo'].to_numpy().mean())\n",
    "input_cr.append(input['c'].to_numpy().mean()/500)\n",
    "input= pd.read_csv('20input2.csv')\n",
    "input_d.append(input['dis'].to_numpy().mean())\n",
    "input_v.append(input['velo'].to_numpy().mean())\n",
    "input_cr.append(input['c'].to_numpy().mean()/500)"
   ]
  },
  {
   "cell_type": "code",
   "execution_count": 98,
   "metadata": {},
   "outputs": [
    {
     "data": {
      "text/plain": [
       "[540.0598976881502,\n",
       " 245.8593133265728,\n",
       " 238.8999364450576,\n",
       " 826.1688835592282,\n",
       " 805.8045545890685,\n",
       " 528.9803300283677,\n",
       " 619.7705852676222,\n",
       " 468.67160560467926,\n",
       " 720.7880080123865,\n",
       " 680.0696983304093,\n",
       " 761.1084514691779,\n",
       " 822.8319473931639,\n",
       " 858.2198841546897,\n",
       " 887.2768297606607]"
      ]
     },
     "execution_count": 98,
     "metadata": {},
     "output_type": "execute_result"
    }
   ],
   "source": [
    "input_d"
   ]
  },
  {
   "cell_type": "code",
   "execution_count": null,
   "metadata": {},
   "outputs": [],
   "source": []
  },
  {
   "cell_type": "code",
   "execution_count": 28,
   "metadata": {},
   "outputs": [
    {
     "data": {
      "text/plain": [
       "[0.5412085283224579,\n",
       " 0.2825133458196418,\n",
       " 0.2700574156556469,\n",
       " 0.741264804219679,\n",
       " 0.7433819917877265,\n",
       " 0.5753414006051014,\n",
       " 0.7038279273794377,\n",
       " 0.5258538569594066,\n",
       " 0.7013411508660675,\n",
       " 0.7672034565047609,\n",
       " 0.898596708361316,\n",
       " 1.0008881258801297,\n",
       " 1.1687238295827505,\n",
       " 1.2084452729945925]"
      ]
     },
     "execution_count": 28,
     "metadata": {},
     "output_type": "execute_result"
    }
   ],
   "source": [
    "epochs = [1e3,5e3,1e4,2e4,3e4,4e4,5e4,6e4,7e4,8e4,9e4,1e5,1.5e5, 2e5]\n",
    "p = []\n",
    "for i in range(len(input_d)):\n",
    "    p.append(input_v[i]/input_base_v*input_d[i]/input_base_d)\n",
    "p"
   ]
  },
  {
   "cell_type": "code",
   "execution_count": 40,
   "metadata": {},
   "outputs": [
    {
     "data": {
      "image/png": "[encoded data removed]",
      "text/plain": [
       "<Figure size 640x400 with 1 Axes>"
      ]
     },
     "metadata": {
      "needs_background": "light"
     },
     "output_type": "display_data"
    }
   ],
   "source": [
    "# Draw Plot\n",
    "plt.figure(figsize=(8,5), dpi= 80)\n",
    "plt.plot(epochs, p, color='red', label = 'DQN Model (20 inputs)')\n",
    "plt.plot(epochs, np.ones(len(epochs)), linestyle=\"--\", label = 'Reference model')\n",
    "# Decoration\n",
    "plt.xlim((0,2e5))\n",
    "plt.ylabel('Performance index')\n",
    "plt.xlabel('Epoch')\n",
    "plt.title(\"Performance index changing during training\", fontsize=12)\n",
    "plt.grid(axis='both', alpha=.3)\n",
    "\n",
    "# Remove borders\n",
    "plt.gca().spines[\"top\"].set_alpha(0.0)    \n",
    "plt.gca().spines[\"bottom\"].set_alpha(0.3)\n",
    "plt.gca().spines[\"right\"].set_alpha(0.0)    \n",
    "plt.gca().spines[\"left\"].set_alpha(0.3)   \n",
    "plt.legend()\n",
    "plt.show()"
   ]
  },
  {
   "cell_type": "code",
   "execution_count": 107,
   "metadata": {},
   "outputs": [],
   "source": [
    "d=input_d.copy()\n",
    "d.append(0)\n",
    "v=input_v.copy()\n",
    "v.append(0)"
   ]
  },
  {
   "cell_type": "code",
   "execution_count": 114,
   "metadata": {},
   "outputs": [
    {
     "data": {
      "image/png": "[encoded data removed]",
      "text/plain": [
       "<Figure size 1120x320 with 2 Axes>"
      ]
     },
     "metadata": {
      "needs_background": "light"
     },
     "output_type": "display_data"
    }
   ],
   "source": [
    "epochs_str = ['1e3','5e3','1e4','2e4','3e4','4e4','5e4','6e4','7e4','8e4','9e4','1e5','1.5e5', '2e5' , 'ref']\n",
    "epochs = [1e3,5e3,1e4,2e4,3e4,4e4,5e4,6e4,7e4,8e4,9e4,1e5,1.5e5, 2e5]\n",
    "x = np.linspace(0,14, 15)\n",
    "\n",
    "fig, axes = plt.subplots(nrows=1, ncols=2, figsize=(14,4), dpi= 80)\n",
    "axes[0].bar(x, d, tick_label = epochs_str, width=0.3)\n",
    "axes[0].bar(14, input_base_d, width=0.3)\n",
    "axes[0].set_ylabel('Distance')\n",
    "axes[0].set_ylim((200,1000))\n",
    "axes[1].bar(x, v, tick_label = epochs_str, width=0.3)\n",
    "axes[1].bar(14, input_base_v, width=0.3)\n",
    "axes[1].set_ylabel('Average Velocity')\n",
    "axes[1].set_ylim((18,32))\n",
    "plt.show()"
   ]
  },
  {
   "cell_type": "code",
   "execution_count": 9,
   "metadata": {},
   "outputs": [],
   "source": [
    "input_d = []\n",
    "input_v = []\n",
    "input_r = []\n",
    "input_cr = []\n",
    "\n",
    "input1= pd.read_csv('20input1.csv')\n",
    "input2= pd.read_csv('20input3.csv')\n",
    "input_d.append((input1['dis'].to_numpy().mean()+input2['dis'].to_numpy().mean())/2)\n",
    "input_v.append((input1['velo'].to_numpy().mean()+input2['velo'].to_numpy().mean())/2)\n",
    "\n",
    "input1= pd.read_csv('28input1.csv')\n",
    "input2= pd.read_csv('28input2.csv')\n",
    "input_d.append((input1['dis'].to_numpy().mean()+input2['dis'].to_numpy().mean())/2)\n",
    "input_v.append((input1['velo'].to_numpy().mean()+input2['velo'].to_numpy().mean())/2)\n",
    "\n",
    "\n",
    "input1= pd.read_csv('36input1.csv')\n",
    "input2= pd.read_csv('36input2.csv')\n",
    "input_d.append((input1['dis'].to_numpy().mean()+input2['dis'].to_numpy().mean())/2)\n",
    "input_v.append((input1['velo'].to_numpy().mean()+input2['velo'].to_numpy().mean())/2)\n",
    "\n",
    "input1= pd.read_csv('44input1.csv')\n",
    "input2= pd.read_csv('44input2.csv')\n",
    "input_d.append((input1['dis'].to_numpy().mean()+input2['dis'].to_numpy().mean())/2)\n",
    "input_v.append((input1['velo'].to_numpy().mean()+input2['velo'].to_numpy().mean())/2)\n"
   ]
  },
  {
   "cell_type": "code",
   "execution_count": 10,
   "metadata": {},
   "outputs": [
    {
     "data": {
      "image/png": "[encoded data removed]",
      "text/plain": [
       "<Figure size 800x320 with 2 Axes>"
      ]
     },
     "metadata": {
      "needs_background": "light"
     },
     "output_type": "display_data"
    }
   ],
   "source": [
    "input_d.append(0)\n",
    "input_v.append(0)\n",
    "name_str = ['20 input', '28 input', '36 input', '44 input', 'ref']\n",
    "x = np.linspace(0,4,5)\n",
    "\n",
    "fig, axes = plt.subplots(nrows=1, ncols=2, figsize=(10,4), dpi= 80)\n",
    "axes[0].bar(x, input_d, tick_label = name_str, width=0.3)\n",
    "axes[0].bar(4, input_base_d, width=0.3)\n",
    "axes[0].set_ylabel('Distance')\n",
    "axes[0].set_ylim((200,1000))\n",
    "\n",
    "axes[1].bar(x, input_v, tick_label =name_str, width=0.3)\n",
    "axes[1].bar(4, input_base_v, width=0.3)\n",
    "axes[1].set_ylabel('Average Velocity')\n",
    "axes[1].set_ylim((18,32))\n",
    "plt.show()"
   ]
  },
  {
   "cell_type": "code",
   "execution_count": 11,
   "metadata": {},
   "outputs": [
    {
     "data": {
      "text/plain": [
       "[1.1790472511022079,\n",
       " 1.1883900846072135,\n",
       " 1.0610294080876177,\n",
       " 1.1695625026326721,\n",
       " 0.0]"
      ]
     },
     "execution_count": 11,
     "metadata": {},
     "output_type": "execute_result"
    }
   ],
   "source": [
    "p = []\n",
    "for i in range(len(input_d)):\n",
    "    p.append(input_v[i]/input_base_v*input_d[i]/input_base_d)\n",
    "p"
   ]
  },
  {
   "cell_type": "code",
   "execution_count": null,
   "metadata": {},
   "outputs": [],
   "source": []
  }
 ],
 "metadata": {
  "kernelspec": {
   "display_name": "Python 3.8.8 ('base')",
   "language": "python",
   "name": "python3"
  },
  "language_info": {
   "codemirror_mode": {
    "name": "ipython",
    "version": 3
   },
   "file_extension": ".py",
   "mimetype": "text/x-python",
   "name": "python",
   "nbconvert_exporter": "python",
   "pygments_lexer": "ipython3",
   "version": "3.8.8"
  },
  "orig_nbformat": 4,
  "vscode": {
   "interpreter": {
    "hash": "40d3a090f54c6569ab1632332b64b2c03c39dcf918b08424e98f38b5ae0af88f"
   }
  }
 },
 "nbformat": 4,
 "nbformat_minor": 2
}
